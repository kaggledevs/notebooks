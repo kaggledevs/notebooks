{
 "cells": [
  {
   "cell_type": "markdown",
   "metadata": {},
   "source": [
    "## Running the IJulia Notebook\n",
    "\n",
    "In Julia, at the `julia>` prompt, you can type\n",
    "\n",
    "```\n",
    "using IJulia\n",
    "notebook()\n",
    "```\n",
    "\n",
    "to launch the IJulia notebook in your browser. You can use `notebook(detached=true)` to launch a notebook server in the background that will persist even when you quit Julia.\n",
    "\n",
    "Alternatively, you can run\n",
    "\n",
    "```\n",
    "jupyter notebook\n",
    "```\n",
    "\n",
    "from the command line (the Terminal program in MacOS or the Command Prompt in Windows). Note that if you installed jupyter via automated Miniconda installer in `Pkg.add`, above, then jupyter may not be in your `PATH`; type `import Conda; Conda.SCRIPTDIR` in Julia to find out where Conda installed jupyter.\n",
    "\n",
    "_Source: https://github.com/JuliaLang/IJulia.jl_"
   ]
  },
  {
   "cell_type": "markdown",
   "metadata": {},
   "source": [
    "--------"
   ]
  },
  {
   "cell_type": "markdown",
   "metadata": {
    "collapsed": true
   },
   "source": [
    "## Рекомендации по именованию\n",
    "* имена переменных в нижнем регистре, слова разделяются символом подчёркивания (`_`);\n",
    "* для имён типов используется `CamelCase`;\n",
    "* имена функций и макросов в нижнем регистре без разделения слов символом подчёркивания;\n",
    "* имя функции, изменяющей переданные ей аргументы (in-place function), оканчивается восклицательным знаком."
   ]
  },
  {
   "cell_type": "code",
   "execution_count": null,
   "metadata": {
    "collapsed": true
   },
   "outputs": [],
   "source": []
  },
  {
   "cell_type": "markdown",
   "metadata": {},
   "source": [
    "------------\n",
    "\n",
    "## Use Julia to identify characters from Google Street View images\n",
    "\n",
    "This competition is designed to help you get started with Julia. If you are looking for a good programming language for data science, or if you are already accustomed to one language, we encourage you to also try Julia. Julia is a relatively new language for technical computing that attempts to combine the strengths of other popular programming languages. \n",
    "\n",
    "_Source: https://www.kaggle.com/c/street-view-getting-started-with-julia_"
   ]
  },
  {
   "cell_type": "code",
   "execution_count": 2,
   "metadata": {
    "collapsed": true
   },
   "outputs": [],
   "source": [
    "# Pkg.add(\"Images\")\n",
    "# Pkg.add(\"DataFrames\")\n",
    "\n",
    "# using Images\n",
    "# using DataFrames"
   ]
  },
  {
   "cell_type": "code",
   "execution_count": null,
   "metadata": {
    "collapsed": true
   },
   "outputs": [],
   "source": []
  }
 ],
 "metadata": {
  "kernelspec": {
   "display_name": "Julia 0.4.6",
   "language": "julia",
   "name": "julia-0.4"
  },
  "language_info": {
   "file_extension": ".jl",
   "mimetype": "application/julia",
   "name": "julia",
   "version": "0.4.6"
  }
 },
 "nbformat": 4,
 "nbformat_minor": 0
}
