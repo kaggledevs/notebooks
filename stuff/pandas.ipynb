Pandas
In [1]:
import pandas as pd
import numpy as np
import matplotlib.pyplot as plt
Getting Data
From a file:
In [4]:
data = pd.read_csv("titanic.csv", header=0, index_col="PassengerId")
Exploring
In [7]:
data
Out[7]:
Survived	Pclass	Name	Sex	Age	SibSp	Parch	Ticket	Fare	Cabin	Embarked
PassengerId											
1	0	3	Braund, Mr. Owen Harris	male	22.0	1	0	A/5 21171	7.2500	NaN	S
2	1	1	Cumings, Mrs. John Bradley (Florence Briggs Th...	female	38.0	1	0	PC 17599	71.2833	C85	C
3	1	3	Heikkinen, Miss. Laina	female	26.0	0	0	STON/O2. 3101282	7.9250	NaN	S
4	1	1	Futrelle, Mrs. Jacques Heath (Lily May Peel)	female	35.0	1	0	113803	53.1000	C123	S
5	0	3	Allen, Mr. William Henry	male	35.0	0	0	373450	8.0500	NaN	S
6	0	3	Moran, Mr. James	male	NaN	0	0	330877	8.4583	NaN	Q
7	0	1	McCarthy, Mr. Timothy J	male	54.0	0	0	17463	51.8625	E46	S
8	0	3	Palsson, Master. Gosta Leonard	male	2.0	3	1	349909	21.0750	NaN	S
9	1	3	Johnson, Mrs. Oscar W (Elisabeth Vilhelmina Berg)	female	27.0	0	2	347742	11.1333	NaN	S
10	1	2	Nasser, Mrs. Nicholas (Adele Achem)	female	14.0	1	0	237736	30.0708	NaN	C
11	1	3	Sandstrom, Miss. Marguerite Rut	female	4.0	1	1	PP 9549	16.7000	G6	S
12	1	1	Bonnell, Miss. Elizabeth	female	58.0	0	0	113783	26.5500	C103	S
13	0	3	Saundercock, Mr. William Henry	male	20.0	0	0	A/5. 2151	8.0500	NaN	S
14	0	3	Andersson, Mr. Anders Johan	male	39.0	1	5	347082	31.2750	NaN	S
15	0	3	Vestrom, Miss. Hulda Amanda Adolfina	female	14.0	0	0	350406	7.8542	NaN	S
16	1	2	Hewlett, Mrs. (Mary D Kingcome)	female	55.0	0	0	248706	16.0000	NaN	S
17	0	3	Rice, Master. Eugene	male	2.0	4	1	382652	29.1250	NaN	Q
18	1	2	Williams, Mr. Charles Eugene	male	NaN	0	0	244373	13.0000	NaN	S
19	0	3	Vander Planke, Mrs. Julius (Emelia Maria Vande...	female	31.0	1	0	345763	18.0000	NaN	S
20	1	3	Masselmani, Mrs. Fatima	female	NaN	0	0	2649	7.2250	NaN	C
21	0	2	Fynney, Mr. Joseph J	male	35.0	0	0	239865	26.0000	NaN	S
22	1	2	Beesley, Mr. Lawrence	male	34.0	0	0	248698	13.0000	D56	S
23	1	3	McGowan, Miss. Anna "Annie"	female	15.0	0	0	330923	8.0292	NaN	Q
24	1	1	Sloper, Mr. William Thompson	male	28.0	0	0	113788	35.5000	A6	S
25	0	3	Palsson, Miss. Torborg Danira	female	8.0	3	1	349909	21.0750	NaN	S
26	1	3	Asplund, Mrs. Carl Oscar (Selma Augusta Emilia...	female	38.0	1	5	347077	31.3875	NaN	S
27	0	3	Emir, Mr. Farred Chehab	male	NaN	0	0	2631	7.2250	NaN	C
28	0	1	Fortune, Mr. Charles Alexander	male	19.0	3	2	19950	263.0000	C23 C25 C27	S
29	1	3	O'Dwyer, Miss. Ellen "Nellie"	female	NaN	0	0	330959	7.8792	NaN	Q
30	0	3	Todoroff, Mr. Lalio	male	NaN	0	0	349216	7.8958	NaN	S
...	...	...	...	...	...	...	...	...	...	...	...
862	0	2	Giles, Mr. Frederick Edward	male	21.0	1	0	28134	11.5000	NaN	S
863	1	1	Swift, Mrs. Frederick Joel (Margaret Welles Ba...	female	48.0	0	0	17466	25.9292	D17	S
864	0	3	Sage, Miss. Dorothy Edith "Dolly"	female	NaN	8	2	CA. 2343	69.5500	NaN	S
865	0	2	Gill, Mr. John William	male	24.0	0	0	233866	13.0000	NaN	S
866	1	2	Bystrom, Mrs. (Karolina)	female	42.0	0	0	236852	13.0000	NaN	S
867	1	2	Duran y More, Miss. Asuncion	female	27.0	1	0	SC/PARIS 2149	13.8583	NaN	C
868	0	1	Roebling, Mr. Washington Augustus II	male	31.0	0	0	PC 17590	50.4958	A24	S
869	0	3	van Melkebeke, Mr. Philemon	male	NaN	0	0	345777	9.5000	NaN	S
870	1	3	Johnson, Master. Harold Theodor	male	4.0	1	1	347742	11.1333	NaN	S
871	0	3	Balkic, Mr. Cerin	male	26.0	0	0	349248	7.8958	NaN	S
872	1	1	Beckwith, Mrs. Richard Leonard (Sallie Monypeny)	female	47.0	1	1	11751	52.5542	D35	S
873	0	1	Carlsson, Mr. Frans Olof	male	33.0	0	0	695	5.0000	B51 B53 B55	S
874	0	3	Vander Cruyssen, Mr. Victor	male	47.0	0	0	345765	9.0000	NaN	S
875	1	2	Abelson, Mrs. Samuel (Hannah Wizosky)	female	28.0	1	0	P/PP 3381	24.0000	NaN	C
876	1	3	Najib, Miss. Adele Kiamie "Jane"	female	15.0	0	0	2667	7.2250	NaN	C
877	0	3	Gustafsson, Mr. Alfred Ossian	male	20.0	0	0	7534	9.8458	NaN	S
878	0	3	Petroff, Mr. Nedelio	male	19.0	0	0	349212	7.8958	NaN	S
879	0	3	Laleff, Mr. Kristo	male	NaN	0	0	349217	7.8958	NaN	S
880	1	1	Potter, Mrs. Thomas Jr (Lily Alexenia Wilson)	female	56.0	0	1	11767	83.1583	C50	C
881	1	2	Shelley, Mrs. William (Imanita Parrish Hall)	female	25.0	0	1	230433	26.0000	NaN	S
882	0	3	Markun, Mr. Johann	male	33.0	0	0	349257	7.8958	NaN	S
883	0	3	Dahlberg, Miss. Gerda Ulrika	female	22.0	0	0	7552	10.5167	NaN	S
884	0	2	Banfield, Mr. Frederick James	male	28.0	0	0	C.A./SOTON 34068	10.5000	NaN	S
885	0	3	Sutehall, Mr. Henry Jr	male	25.0	0	0	SOTON/OQ 392076	7.0500	NaN	S
886	0	3	Rice, Mrs. William (Margaret Norton)	female	39.0	0	5	382652	29.1250	NaN	Q
887	0	2	Montvila, Rev. Juozas	male	27.0	0	0	211536	13.0000	NaN	S
888	1	1	Graham, Miss. Margaret Edith	female	19.0	0	0	112053	30.0000	B42	S
889	0	3	Johnston, Miss. Catherine Helen "Carrie"	female	NaN	1	2	W./C. 6607	23.4500	NaN	S
890	1	1	Behr, Mr. Karl Howell	male	26.0	0	0	111369	30.0000	C148	C
891	0	3	Dooley, Mr. Patrick	male	32.0	0	0	370376	7.7500	NaN	Q
891 rows × 11 columns
In [ ]:
data.head()
data.tail()
In [17]:
data.info()
<class 'pandas.core.frame.DataFrame'>
Int64Index: 891 entries, 1 to 891
Data columns (total 11 columns):
Survived    891 non-null int64
Pclass      891 non-null int64
Name        891 non-null object
Sex         891 non-null object
Age         714 non-null float64
SibSp       891 non-null int64
Parch       891 non-null int64
Ticket      891 non-null object
Fare        891 non-null float64
Cabin       204 non-null object
Embarked    889 non-null object
dtypes: float64(2), int64(4), object(5)
memory usage: 83.5+ KB
In [21]:
data.mean() # Excludes missing data
Out[21]:
Survived     0.383838
Pclass       2.308642
Age         29.699118
SibSp        0.523008
Parch        0.381594
Fare        32.204208
dtype: float64
Indexing
Columns by column name:
In [13]:
data.Ticket
data['Ticket']
data[['Ticket']] # prettier output
Out[13]:
Ticket
PassengerId	
1	A/5 21171
2	PC 17599
3	STON/O2. 3101282
4	113803
5	373450
6	330877
7	17463
8	349909
9	347742
10	237736
11	PP 9549
12	113783
13	A/5. 2151
14	347082
15	350406
16	248706
17	382652
18	244373
19	345763
20	2649
21	239865
22	248698
23	330923
24	113788
25	349909
26	347077
27	2631
28	19950
29	330959
30	349216
...	...
862	28134
863	17466
864	CA. 2343
865	233866
866	236852
867	SC/PARIS 2149
868	PC 17590
869	345777
870	347742
871	349248
872	11751
873	695
874	345765
875	P/PP 3381
876	2667
877	7534
878	349212
879	349217
880	11767
881	230433
882	349257
883	7552
884	C.A./SOTON 34068
885	SOTON/OQ 392076
886	382652
887	211536
888	112053
889	W./C. 6607
890	111369
891	370376
891 rows × 1 columns
Rows by index:
In [19]:
data[0:5]
Out[19]:
Survived	Pclass	Name	Sex	Age	SibSp	Parch	Ticket	Fare	Cabin	Embarked
PassengerId											
1	0	3	Braund, Mr. Owen Harris	male	22.0	1	0	A/5 21171	7.2500	NaN	S
2	1	1	Cumings, Mrs. John Bradley (Florence Briggs Th...	female	38.0	1	0	PC 17599	71.2833	C85	C
3	1	3	Heikkinen, Miss. Laina	female	26.0	0	0	STON/O2. 3101282	7.9250	NaN	S
4	1	1	Futrelle, Mrs. Jacques Heath (Lily May Peel)	female	35.0	1	0	113803	53.1000	C123	S
5	0	3	Allen, Mr. William Henry	male	35.0	0	0	373450	8.0500	NaN	S
Grouping
In [20]:
data.groupby("Pclass").mean()
Out[20]:
Survived	Age	SibSp	Parch	Fare
Pclass					
1	0.629630	38.233441	0.416667	0.356481	84.154687
2	0.472826	29.877630	0.402174	0.380435	20.662183
3	0.242363	25.140620	0.615071	0.393075	13.675550
Missing Data
isnull()
In [22]:
pd.isnull(data)
Out[22]:
Survived	Pclass	Name	Sex	Age	SibSp	Parch	Ticket	Fare	Cabin	Embarked
PassengerId											
1	False	False	False	False	False	False	False	False	False	True	False
2	False	False	False	False	False	False	False	False	False	False	False
3	False	False	False	False	False	False	False	False	False	True	False
4	False	False	False	False	False	False	False	False	False	False	False
5	False	False	False	False	False	False	False	False	False	True	False
6	False	False	False	False	True	False	False	False	False	True	False
7	False	False	False	False	False	False	False	False	False	False	False
8	False	False	False	False	False	False	False	False	False	True	False
9	False	False	False	False	False	False	False	False	False	True	False
10	False	False	False	False	False	False	False	False	False	True	False
11	False	False	False	False	False	False	False	False	False	False	False
12	False	False	False	False	False	False	False	False	False	False	False
13	False	False	False	False	False	False	False	False	False	True	False
14	False	False	False	False	False	False	False	False	False	True	False
15	False	False	False	False	False	False	False	False	False	True	False
16	False	False	False	False	False	False	False	False	False	True	False
17	False	False	False	False	False	False	False	False	False	True	False
18	False	False	False	False	True	False	False	False	False	True	False
19	False	False	False	False	False	False	False	False	False	True	False
20	False	False	False	False	True	False	False	False	False	True	False
21	False	False	False	False	False	False	False	False	False	True	False
22	False	False	False	False	False	False	False	False	False	False	False
23	False	False	False	False	False	False	False	False	False	True	False
24	False	False	False	False	False	False	False	False	False	False	False
25	False	False	False	False	False	False	False	False	False	True	False
26	False	False	False	False	False	False	False	False	False	True	False
27	False	False	False	False	True	False	False	False	False	True	False
28	False	False	False	False	False	False	False	False	False	False	False
29	False	False	False	False	True	False	False	False	False	True	False
30	False	False	False	False	True	False	False	False	False	True	False
...	...	...	...	...	...	...	...	...	...	...	...
862	False	False	False	False	False	False	False	False	False	True	False
863	False	False	False	False	False	False	False	False	False	False	False
864	False	False	False	False	True	False	False	False	False	True	False
865	False	False	False	False	False	False	False	False	False	True	False
866	False	False	False	False	False	False	False	False	False	True	False
867	False	False	False	False	False	False	False	False	False	True	False
868	False	False	False	False	False	False	False	False	False	False	False
869	False	False	False	False	True	False	False	False	False	True	False
870	False	False	False	False	False	False	False	False	False	True	False
871	False	False	False	False	False	False	False	False	False	True	False
872	False	False	False	False	False	False	False	False	False	False	False
873	False	False	False	False	False	False	False	False	False	False	False
874	False	False	False	False	False	False	False	False	False	True	False
875	False	False	False	False	False	False	False	False	False	True	False
876	False	False	False	False	False	False	False	False	False	True	False
877	False	False	False	False	False	False	False	False	False	True	False
878	False	False	False	False	False	False	False	False	False	True	False
879	False	False	False	False	True	False	False	False	False	True	False
880	False	False	False	False	False	False	False	False	False	False	False
881	False	False	False	False	False	False	False	False	False	True	False
882	False	False	False	False	False	False	False	False	False	True	False
883	False	False	False	False	False	False	False	False	False	True	False
884	False	False	False	False	False	False	False	False	False	True	False
885	False	False	False	False	False	False	False	False	False	True	False
886	False	False	False	False	False	False	False	False	False	True	False
887	False	False	False	False	False	False	False	False	False	True	False
888	False	False	False	False	False	False	False	False	False	False	False
889	False	False	False	False	True	False	False	False	False	True	False
890	False	False	False	False	False	False	False	False	False	False	False
891	False	False	False	False	False	False	False	False	False	True	False
891 rows × 11 columns
fillna()
In [18]:
data1 = data
data1.fillna(5)
# data1.fillna(5, inplace=True) # or this
Out[18]:
Survived	Pclass	Name	Sex	Age	SibSp	Parch	Ticket	Fare	Cabin	Embarked
PassengerId											
1	0	3	Braund, Mr. Owen Harris	male	22.0	1	0	A/5 21171	7.2500	5	S
2	1	1	Cumings, Mrs. John Bradley (Florence Briggs Th...	female	38.0	1	0	PC 17599	71.2833	C85	C
3	1	3	Heikkinen, Miss. Laina	female	26.0	0	0	STON/O2. 3101282	7.9250	5	S
4	1	1	Futrelle, Mrs. Jacques Heath (Lily May Peel)	female	35.0	1	0	113803	53.1000	C123	S
5	0	3	Allen, Mr. William Henry	male	35.0	0	0	373450	8.0500	5	S
6	0	3	Moran, Mr. James	male	5.0	0	0	330877	8.4583	5	Q
7	0	1	McCarthy, Mr. Timothy J	male	54.0	0	0	17463	51.8625	E46	S
8	0	3	Palsson, Master. Gosta Leonard	male	2.0	3	1	349909	21.0750	5	S
9	1	3	Johnson, Mrs. Oscar W (Elisabeth Vilhelmina Berg)	female	27.0	0	2	347742	11.1333	5	S
10	1	2	Nasser, Mrs. Nicholas (Adele Achem)	female	14.0	1	0	237736	30.0708	5	C
11	1	3	Sandstrom, Miss. Marguerite Rut	female	4.0	1	1	PP 9549	16.7000	G6	S
12	1	1	Bonnell, Miss. Elizabeth	female	58.0	0	0	113783	26.5500	C103	S
13	0	3	Saundercock, Mr. William Henry	male	20.0	0	0	A/5. 2151	8.0500	5	S
14	0	3	Andersson, Mr. Anders Johan	male	39.0	1	5	347082	31.2750	5	S
15	0	3	Vestrom, Miss. Hulda Amanda Adolfina	female	14.0	0	0	350406	7.8542	5	S
16	1	2	Hewlett, Mrs. (Mary D Kingcome)	female	55.0	0	0	248706	16.0000	5	S
17	0	3	Rice, Master. Eugene	male	2.0	4	1	382652	29.1250	5	Q
18	1	2	Williams, Mr. Charles Eugene	male	5.0	0	0	244373	13.0000	5	S
19	0	3	Vander Planke, Mrs. Julius (Emelia Maria Vande...	female	31.0	1	0	345763	18.0000	5	S
20	1	3	Masselmani, Mrs. Fatima	female	5.0	0	0	2649	7.2250	5	C
21	0	2	Fynney, Mr. Joseph J	male	35.0	0	0	239865	26.0000	5	S
22	1	2	Beesley, Mr. Lawrence	male	34.0	0	0	248698	13.0000	D56	S
23	1	3	McGowan, Miss. Anna "Annie"	female	15.0	0	0	330923	8.0292	5	Q
24	1	1	Sloper, Mr. William Thompson	male	28.0	0	0	113788	35.5000	A6	S
25	0	3	Palsson, Miss. Torborg Danira	female	8.0	3	1	349909	21.0750	5	S
26	1	3	Asplund, Mrs. Carl Oscar (Selma Augusta Emilia...	female	38.0	1	5	347077	31.3875	5	S
27	0	3	Emir, Mr. Farred Chehab	male	5.0	0	0	2631	7.2250	5	C
28	0	1	Fortune, Mr. Charles Alexander	male	19.0	3	2	19950	263.0000	C23 C25 C27	S
29	1	3	O'Dwyer, Miss. Ellen "Nellie"	female	5.0	0	0	330959	7.8792	5	Q
30	0	3	Todoroff, Mr. Lalio	male	5.0	0	0	349216	7.8958	5	S
...	...	...	...	...	...	...	...	...	...	...	...
862	0	2	Giles, Mr. Frederick Edward	male	21.0	1	0	28134	11.5000	5	S
863	1	1	Swift, Mrs. Frederick Joel (Margaret Welles Ba...	female	48.0	0	0	17466	25.9292	D17	S
864	0	3	Sage, Miss. Dorothy Edith "Dolly"	female	5.0	8	2	CA. 2343	69.5500	5	S
865	0	2	Gill, Mr. John William	male	24.0	0	0	233866	13.0000	5	S
866	1	2	Bystrom, Mrs. (Karolina)	female	42.0	0	0	236852	13.0000	5	S
867	1	2	Duran y More, Miss. Asuncion	female	27.0	1	0	SC/PARIS 2149	13.8583	5	C
868	0	1	Roebling, Mr. Washington Augustus II	male	31.0	0	0	PC 17590	50.4958	A24	S
869	0	3	van Melkebeke, Mr. Philemon	male	5.0	0	0	345777	9.5000	5	S
870	1	3	Johnson, Master. Harold Theodor	male	4.0	1	1	347742	11.1333	5	S
871	0	3	Balkic, Mr. Cerin	male	26.0	0	0	349248	7.8958	5	S
872	1	1	Beckwith, Mrs. Richard Leonard (Sallie Monypeny)	female	47.0	1	1	11751	52.5542	D35	S
873	0	1	Carlsson, Mr. Frans Olof	male	33.0	0	0	695	5.0000	B51 B53 B55	S
874	0	3	Vander Cruyssen, Mr. Victor	male	47.0	0	0	345765	9.0000	5	S
875	1	2	Abelson, Mrs. Samuel (Hannah Wizosky)	female	28.0	1	0	P/PP 3381	24.0000	5	C
876	1	3	Najib, Miss. Adele Kiamie "Jane"	female	15.0	0	0	2667	7.2250	5	C
877	0	3	Gustafsson, Mr. Alfred Ossian	male	20.0	0	0	7534	9.8458	5	S
878	0	3	Petroff, Mr. Nedelio	male	19.0	0	0	349212	7.8958	5	S
879	0	3	Laleff, Mr. Kristo	male	5.0	0	0	349217	7.8958	5	S
880	1	1	Potter, Mrs. Thomas Jr (Lily Alexenia Wilson)	female	56.0	0	1	11767	83.1583	C50	C
881	1	2	Shelley, Mrs. William (Imanita Parrish Hall)	female	25.0	0	1	230433	26.0000	5	S
882	0	3	Markun, Mr. Johann	male	33.0	0	0	349257	7.8958	5	S
883	0	3	Dahlberg, Miss. Gerda Ulrika	female	22.0	0	0	7552	10.5167	5	S
884	0	2	Banfield, Mr. Frederick James	male	28.0	0	0	C.A./SOTON 34068	10.5000	5	S
885	0	3	Sutehall, Mr. Henry Jr	male	25.0	0	0	SOTON/OQ 392076	7.0500	5	S
886	0	3	Rice, Mrs. William (Margaret Norton)	female	39.0	0	5	382652	29.1250	5	Q
887	0	2	Montvila, Rev. Juozas	male	27.0	0	0	211536	13.0000	5	S
888	1	1	Graham, Miss. Margaret Edith	female	19.0	0	0	112053	30.0000	B42	S
889	0	3	Johnston, Miss. Catherine Helen "Carrie"	female	5.0	1	2	W./C. 6607	23.4500	5	S
890	1	1	Behr, Mr. Karl Howell	male	26.0	0	0	111369	30.0000	C148	C
891	0	3	Dooley, Mr. Patrick	male	32.0	0	0	370376	7.7500	5	Q
891 rows × 11 columns
dropna()
In [ ]:
data2 = data
data2.dropna(how='any')
